{
 "cells": [
  {
   "cell_type": "markdown",
   "metadata": {},
   "source": [
    "# COGS 108 - Project Proposal"
   ]
  },
  {
   "cell_type": "markdown",
   "metadata": {},
   "source": [
    "# Names\n",
    "\n",
    "- Vishnu Babu Guturu\n",
    "- Karthik Sankaran\n",
    "- Shaan Bhakta\n",
    "- Orlev Kuknariev\n",
    "- Akshat Alurkar"
   ]
  },
  {
   "cell_type": "markdown",
   "metadata": {},
   "source": [
    "# Research Question"
   ]
  },
  {
   "cell_type": "markdown",
   "metadata": {},
   "source": [
    "How do player statistics (club, position, nationality, age, wins, losses, goals, assists, shooting accuracy, tackle success percentage, duels won, successful 50-50s, assists, passes per match, big chances created) affect soccer player market value?\n",
    "- Which statistics are the best measures of value?\n",
    "- Can we generalize those statistics to predict player value based on their statistics?"
   ]
  },
  {
   "cell_type": "markdown",
   "metadata": {},
   "source": [
    "## Background and Prior Work"
   ]
  },
  {
   "cell_type": "markdown",
   "metadata": {},
   "source": [
    "Soccer, like most other sports, is incredibly data driven. However, unlike other sports, many of the characteristics of a good player are hard to explain by simple statistics. Unlike basketball where dropping 0 points as a superstar player most certainly means you had a bad game, a soccer superstar scoring 0 goals doesn’t necessarily mean they had a bad game. For this reason our team is trying to figure out if there is some commonly used and available statistic (or combination of stats.) that can help determine a player’s market value or quality. \n",
    "\n",
    "Some members of our group watch soccer heavily. The article \"Decoding TransfrMarket: Analyzing Player Values Versus Player Performance\"<a name=\"cite_ref-1\"></a>[<sup>1</sup>](#cite_note-1) reaffirms many of our opinions of how market value is influenced. This article analyzes how well soccer players’ Transfermarkt values reflect their on-field performance, focusing on the 2023–2024 Premier League season. By comparing player ratings from WhoScored and key performance metric like goals, passes, and interception with their market value, the author finds a generally positive correlation between better performance and higher valuations. However, positional differences are significant. Attackers are valued for scoring and key passes, midfielders for dribbling and long balls, and defenders for consistency and accurate passing rather than tackles. Younger players tend to be more expensive. These findings from a sports analytics club at Berkeley reflect what we also believe as a team. One more idea I would like to set forth is that the club and nation a player is from tends to overinflate their value. For example, there is a phenomenon in soccer known informally as the “Brazil/inho Tax” where Brazilian players are held to higher standards than other nationalities because of their nation's pedigree in the sport and are thus, valued higher. People often joke that Manchester City right winger Savinho’s nickname change from Savio to Savinho (a more Brazilian sounding name) had the effect of increasing his transfer fee by $10 million. \n",
    "\n",
    "One github repo that demonstrates a similar concept(but highly complicated) is: Football-Player-Market-Value-Prediction<a name=\"cite_ref-2\"></a>[<sup>2</sup>](#cite_note-2)\n",
    "\n",
    "This project focuses on predicting the market value of professional football players using machine learning techniques. Data was collected through web scraping with BeautifulSoup in Python from two websites, covering over 20 tables and resulting in a dataset of 350+ players from top leagues such as the Premier League, La Liga, Bundesliga, Serie A, and Ligue 1. The statistics that the author used were a superset of the ones we are trying to work with with a few exceptions. After cleaning and transforming the data, multiple models were tested, with the Random Forest Regressor achieving the best performance at around 90% accuracy and a 5% error margin. The project used preprocessing methods in outlier detection and null value handling while demonstrating results using incredibly detailed visualizations.\n",
    "\n",
    "1. <a name=\"cite_note-1\"></a> [^](#cite_ref-1) Wang, Ethan. (16 May 2024) Decoding TransfrMarket: Analyzing Player Values Versus Player Performance. *Sports Analytics Group Berkeley*. https://sportsanalytics.studentorg.berkeley.edu/articles/transfer-values.html \n",
    "2. <a name=\"cite_note-2\"></a> [^](#cite_ref-2) Github Repository by akarshsinghh. https://github.com/akarshsinghh/Football-Player-Market-Value-Prediction\n"
   ]
  },
  {
   "cell_type": "markdown",
   "metadata": {},
   "source": [
    "# Hypothesis\n"
   ]
  },
  {
   "cell_type": "markdown",
   "metadata": {},
   "source": [
    "We predict a strong correlation between age, goals, assists, big chances created, and market value because the sport of soccer values young, creative line-breaker, offensive players higher than your average aging defender."
   ]
  },
  {
   "cell_type": "markdown",
   "metadata": {},
   "source": [
    "# Data"
   ]
  },
  {
   "cell_type": "markdown",
   "metadata": {},
   "source": [
    "For our research question, the ideal dataset would be a single player-season table spanning every Premier-League campaign, with one row per player per season and columns for demographics & context (age, nationality, position, club), attacking and defensive statistics (goals, assists, big-chances created, shooting accuracy, passes per match, tackle-success %, duels and 50-50s won, etc.), and three target variables: market value, FPL value, and FPL points. Because no public file contains all of that, we will merge two complementary kaggle sources:\n",
    "\n",
    "1. Dataset Name: English Premier League Players Statistics\n",
    "   \n",
    "> Link to the dataset: https://www.kaggle.com/code/desalegngeb/english-premier-league-players-statistics/input\n",
    "\n",
    "> Number of observations: 571 player-season rows (2019-20 EPL)\n",
    "\n",
    "> Description: Contains the full box-score feature set we need—club, position, nationality, age, wins, losses, goals, assists, shooting-accuracy, tackle-success %, duels won, successful 50-50s, passes per match, and big chances created. This file supplies all explanatory variables and will be read into a pandas DataFrame.\n",
    "\n",
    "2. Dataset Name: English Premier League Players Dataset\n",
    "   \n",
    "> Link to the dataset: https://www.kaggle.com/datasets/mauryashubham/english-premier-league-players-dataset\n",
    "\n",
    "> Number of observations: 461 player-season rows (2017-18 EPL)\n",
    "\n",
    "> Description: Provides the three valuation targets—market value (£ m), FPL value (£ m), and FPL points—along with basic demographics. We will merge these targets onto the statistics dataframe using player name. Since the number of observations is not the same between both the datasets, we will filter accordingly.\n",
    "\n",
    "However, one problem these datasets pose is that the seasons do not perfectly align (2017-18 vs 2019-20), so we expect a small amount of temporal noise rather than systematic bias. But this difference shouldn’t be much since the market value for a few players must have increased and decreased for others from 2017-18 to 2020. This shift would compensate for any major discrepancies. These datasets will help us analyze the data efficiently."
   ]
  },
  {
   "cell_type": "markdown",
   "metadata": {},
   "source": [
    "# Ethics & Privacy"
   ]
  },
  {
   "cell_type": "markdown",
   "metadata": {},
   "source": [
    "All variables in our merged dataset are drawn from open, publicly posted sources (Kaggle CSVs that themselves scrape match statistics from the Premier-League website and crowdsourced market prices from Transfermarkt and the official FPL API). We will store raw files in a private Git-repo, publish only aggregated or model-ready tables, and respect each site’s non-commercial licence when downloading updates.\n",
    "\n",
    "The larger ethical challenge is bias in the two target variables. Transfermarkt valuations are crowd-edited and have been shown to underrate defenders, goalkeepers, and players from lower-profile nationalities; FPL prices embed the game designers’ scoring heuristics, thereby privileging goal involvement over less visible defensive work. These systematic skews could make our models appear accurate while merely reproducing community bias. Moreover, we will be limiting our market value prediction based only on attacking statistics such as goals scored and shooting accuracy. This may be biased against players who perform in the defender position. However, we will only compare the market value for attackers and midfielders. To surface such issues we will:\n",
    "\n",
    "* examine model residuals by position, nationality group, and age band; a pattern of under- or over-prediction in any subgroup will be explicitly reported.\n",
    "* compute mean-absolute-error gaps across those subgroups and include them in the results table.\n",
    "* state in the paper that outputs are descriptive of Transfermarkt/FPL perceptions, not “true” player worth, and should not be used for hiring, wage, or contract decisions.\n",
    "\n",
    "By limiting ourselves to public performance data, honouring source licences, and auditing residuals for subgroup error, we address privacy obligations while making the model’s potential biases visible and interpretable."
   ]
  },
  {
   "cell_type": "markdown",
   "metadata": {},
   "source": [
    "# Team Expectations "
   ]
  },
  {
   "cell_type": "markdown",
   "metadata": {},
   "source": [
    "\n",
    "Read over the [COGS108 Team Policies](https://github.com/COGS108/Projects/blob/master/COGS108_TeamPolicies.md) individually. Then, include your group’s expectations of one another for successful completion of your COGS108 project below. Discuss and agree on what all of your expectations are. Discuss how your team will communicate throughout the quarter and consider how you will communicate respectfully should conflicts arise. By including each member’s name above and by adding their name to the submission, you are indicating that you have read the COGS108 Team Policies, accept your team’s expectations below, and have every intention to fulfill them. These expectations are for your team’s use and benefit — they won’t be graded for their details.\n",
    "\n",
    "* *Team Expectation 1*\n",
    "* *Team Expectation 2*\n",
    "* *Team Expecation 3*\n",
    "* ..."
   ]
  },
  {
   "cell_type": "markdown",
   "metadata": {},
   "source": [
    "# Project Timeline Proposal"
   ]
  },
  {
   "cell_type": "markdown",
   "metadata": {},
   "source": [
    "Specify your team's specific project timeline. An example timeline has been provided. Changes the dates, times, names, and details to fit your group's plan.\n",
    "\n",
    "If you think you will need any special resources or training outside what we have covered in COGS 108 to solve your problem, then your proposal should state these clearly. For example, if you have selected a problem that involves implementing multiple neural networks, please state this so we can make sure you know what you’re doing and so we can point you to resources you will need to implement your project. Note that you are not required to use outside methods.\n",
    "\n",
    "\n",
    "\n",
    "| Meeting Date  | Meeting Time| Completed Before Meeting  | Discuss at Meeting |\n",
    "|---|---|---|---|\n",
    "| 1/20  |  1 PM | Read & Think about COGS 108 expectations; brainstorm topics/questions  | Determine best form of communication; Discuss and decide on final project topic; discuss hypothesis; begin background research | \n",
    "| 1/26  |  10 AM |  Do background research on topic | Discuss ideal dataset(s) and ethics; draft project proposal | \n",
    "| 2/1  | 10 AM  | Edit, finalize, and submit proposal; Search for datasets  | Discuss Wrangling and possible analytical approaches; Assign group members to lead each specific part   |\n",
    "| 2/14  | 6 PM  | Import & Wrangle Data (Ant Man); EDA (Hulk) | Review/Edit wrangling/EDA; Discuss Analysis Plan   |\n",
    "| 2/23  | 12 PM  | Finalize wrangling/EDA; Begin Analysis (Iron Man; Thor) | Discuss/edit Analysis; Complete project check-in |\n",
    "| 3/13  | 12 PM  | Complete analysis; Draft results/conclusion/discussion (Wasp)| Discuss/edit full project |\n",
    "| 3/20  | Before 11:59 PM  | NA | Turn in Final Project & Group Project Surveys |"
   ]
  }
 ],
 "metadata": {
  "kernelspec": {
   "display_name": "Python 3 (ipykernel)",
   "language": "python",
   "name": "python3"
  },
  "language_info": {
   "codemirror_mode": {
    "name": "ipython",
    "version": 3
   },
   "file_extension": ".py",
   "mimetype": "text/x-python",
   "name": "python",
   "nbconvert_exporter": "python",
   "pygments_lexer": "ipython3",
   "version": "3.12.2"
  }
 },
 "nbformat": 4,
 "nbformat_minor": 4
}
